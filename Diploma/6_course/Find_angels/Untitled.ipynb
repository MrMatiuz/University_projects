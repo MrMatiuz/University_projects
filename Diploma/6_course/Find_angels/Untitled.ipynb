{
 "cells": [
  {
   "cell_type": "code",
   "execution_count": 1,
   "metadata": {},
   "outputs": [],
   "source": [
    "import numpy as np\n",
    "import matplotlib.pyplot as plt"
   ]
  },
  {
   "cell_type": "markdown",
   "metadata": {},
   "source": [
    "# Новый подход"
   ]
  },
  {
   "cell_type": "code",
   "execution_count": 2,
   "metadata": {},
   "outputs": [],
   "source": [
    "def F_M(M, betta):\n",
    "    return np.sqrt((M**2 + 2/(Gam - 1))/(2 * Gam/(Gam - 1) * M**2 * np.sin(betta)**2 - 1) +\n",
    "                (M**2 * np.cos(betta)**2)/((Gam - 1)/2 * M**2 * np.sin(betta)**2 + 1))\n",
    "\n",
    "def F_C(M, betta, c):\n",
    "    return c / (((Gam - 1) * (M * np.sin(betta))**2 + 2)**(1/2) * (2 * Gam * (M * np.sin(betta))**2 - (Gam-1))**(1/2) / \n",
    "           ((Gam + 1) * M * np.sin(betta)))\n",
    "        \n",
    "def F_D(M, betta, d):\n",
    "    return d / (((Gam + 1) * (M * np.sin(betta))**2) / ((Gam - 1) * (M * np.sin(betta))**2 + 2))\n",
    "\n",
    "def F_P(M, betta, p):\n",
    "    return p / (2 * Gam / (Gam + 1) * (M * np.sin(betta))**2 - (Gam - 1)/(Gam + 1))\n",
    "\n",
    "def F_betta(M, betta):\n",
    "    return np.arctan(2 * 1/np.tan(betta) * ((M * np.sin(betta))**2 - 1)/(M**2 * (Gam + np.cos(2 * betta)) + 2))\n",
    "\n",
    "\n",
    "# Функции для определение характеристических размеров области отрыва, нормированные на площать под отрывом\n",
    "def L_SR(theta_s):\n",
    "    return (2 * np.sin(alpha) / (np.sin(alpha - theta_s) * np.sin(theta_s)))**(1/2)\n",
    "\n",
    "def L_SB(theta_s, betta_s, betta_r):\n",
    "    return ((np.cos(theta_s) * np.tan(theta_s + betta_s) - np.sin(theta_s)) /\n",
    "            (np.cos(betta_s) * np.tan(theta_s + betta_s) - np.sin(betta_s))) * L_SR(theta_s)\n",
    "\n",
    "def L_RB(theta_s, betta_s, betta_r):\n",
    "    return ((np.cos(theta_s) * np.tan(betta_s) - np.sin(theta_s)) /\n",
    "            (np.sin(theta_s + betta_r) - np.tan(betta_s) * np.cos(theta_s + betta_r))) * L_SR(theta_s)\n",
    "\n",
    "\n",
    "# Функции для определения диссипации\n",
    "def Eps(M_start, C_start, D_start, P_start, M_end, C_end, D_end, P_end, betta, theta):\n",
    "    return 0.5 * (D_start * (M_start * C_start * np.sin(betta))**3 - D_end * (M_end * C_end * np.sin(betta-theta))**3)\n",
    "\n",
    "def Pi(M_start, C_start, D_start, P_start, M_end, C_end, D_end, P_end, betta, theta):\n",
    "    return 0.5 * (P_start + P_end) * (M_start * C_start * np.sin(betta) - M_end * C_end * np.sin(betta - theta))\n",
    "\n",
    "def f_(M_start, C_start, D_start, P_start, M_end, C_end, D_end, P_end, betta, theta):\n",
    "    return (Eps(M_start, C_start, D_start, P_start, M_end, C_end, D_end, P_end, betta, theta) - \n",
    "            Pi(M_start, C_start, D_start, P_start, M_end, C_end, D_end, P_end, betta, theta))\n",
    "\n",
    "def F(M_0, C_0, D_0, P_0, M_1, C_1, D_1, P_1, M_2, C_2, D_2, P_2, betta_s, theta_s, betta_r, theta_r):\n",
    "    return (f_(M_0, C_0, D_0, P_0, M_1, C_1, D_1, P_1, betta_s, theta_s) * L_SB(theta_s, betta_s, betta_r) +\n",
    "            f_(M_1, C_1, D_1, P_1, M_2, C_2, D_2, P_2, betta_r, theta_r) * L_RB(theta_s, betta_s, betta_r))"
   ]
  },
  {
   "cell_type": "code",
   "execution_count": 3,
   "metadata": {},
   "outputs": [],
   "source": [
    "def radian_to_dergee(a):\n",
    "    return a * 180 / np.pi "
   ]
  },
  {
   "cell_type": "code",
   "execution_count": 7,
   "metadata": {
    "scrolled": false
   },
   "outputs": [
    {
     "name": "stderr",
     "output_type": "stream",
     "text": [
      "<ipython-input-2-28af9f81d113>:16: RuntimeWarning: divide by zero encountered in true_divide\n",
      "  return np.arctan(2 * 1/np.tan(betta) * ((M * np.sin(betta))**2 - 1)/(M**2 * (Gam + np.cos(2 * betta)) + 2))\n"
     ]
    },
    {
     "data": {
      "image/png": "[encoded data removed]",
      "text/plain": [
       "<Figure size 864x576 with 1 Axes>"
      ]
     },
     "metadata": {
      "needs_background": "light"
     },
     "output_type": "display_data"
    }
   ],
   "source": [
    "x = np.linspace(0, np.pi,5000)\n",
    "plt.figure(figsize=(12,8))\n",
    "plt.scatter(x, F_betta(M0, x), linewidths=0.01)\n",
    "plt.plot(x,[0]*len(x), c='r')\n",
    "plt.plot(x,[ np.pi/2]*len(x), c='r')\n",
    "plt.plot(x,[-np.pi/2]*len(x), c='r')\n",
    "plt.xlabel('betta_s')\n",
    "plt.ylabel('theta_s')\n",
    "plt.grid()\n",
    "plt.savefig('fig')\n",
    "plt.show()\n"
   ]
  },
  {
   "cell_type": "markdown",
   "metadata": {},
   "source": [
    "## Алгоритм"
   ]
  },
  {
   "cell_type": "code",
   "execution_count": 6,
   "metadata": {},
   "outputs": [],
   "source": [
    "global M0, C0, D0, P0\n",
    "global Gam, alpha\n",
    "global eps\n",
    "\n",
    "Gam = 1.4\n",
    "alpha = 28 * np.pi / 180\n",
    "eps = np.pi / (180 * 100)\n",
    "\n",
    "M0 = 6\n",
    "D0 = 1\n",
    "P0 = 1\n",
    "C0 = np.sqrt(Gam * P0 / D0)"
   ]
  },
  {
   "cell_type": "code",
   "execution_count": 8,
   "metadata": {},
   "outputs": [],
   "source": [
    "def calc_ij(betta_s, betta_r):\n",
    "    \n",
    "    def catch_warning(x):\n",
    "        if x < 0:\n",
    "            raise Exception()\n",
    "        return x\n",
    "    \n",
    "#     Считаем значения для области 1\n",
    "    try:\n",
    "        theta_s = catch_warning(F_betta(M0, betta_s))\n",
    "        M1 = catch_warning(F_M(M0, betta_s))\n",
    "        C1 = catch_warning(F_C(M0, betta_s, C0))\n",
    "        D1 = catch_warning(F_D(M0, betta_s, D0))\n",
    "        P1 = catch_warning(F_P(M0, betta_s, P0))\n",
    "\n",
    "    #     Считаем значения для области 2\n",
    "        theta_r = catch_warning(F_betta(M1, betta_r))\n",
    "        if abs(theta_s + theta_r - alpha) >= eps: return np.nan, np.nan, np.nan\n",
    "        if (betta_s <= theta_s or betta_r <= theta_r): return np.nan, np.nan, np.nan\n",
    "        M2 = catch_warning(F_M(M1, betta_r))\n",
    "        C2 = catch_warning(F_C(M1, betta_r, C1))\n",
    "        D2 = catch_warning(F_D(M1, betta_r, D1))\n",
    "        P2 = catch_warning(F_P(M1, betta_r, P1))\n",
    "\n",
    "#         if (theta_r < 0 or M2 < 0 or C2 < 0 or D2 < 0 or P2 < 0):\n",
    "#             return theta_s, theta_r, np.nan\n",
    "    except:\n",
    "        return np.nan, np.nan, np.nan\n",
    "    \n",
    "#     Считаем диссипацию\n",
    "    F_diss = F(M0, C0, D0, P0,\n",
    "               M1, C1, D1, P1,\n",
    "               M2, C2, D2, P2,\n",
    "               betta_s, theta_s, betta_r, theta_r)\n",
    "    \n",
    "    return theta_s, theta_r, F_diss\n",
    "\n",
    "# def calc_ij(betta_s, betta_r): упроощенная версия без ограничений\n",
    "# #     Считаем значения для области 1\n",
    "#     theta_s = (F_betta(M0, betta_s))\n",
    "#     M1 = (F_M(M0, betta_s))\n",
    "#     C1 = (F_C(M0, betta_s, C0))\n",
    "#     D1 = (F_D(M0, betta_s, D0))\n",
    "#     P1 = (F_P(M0, betta_s, P0))\n",
    "\n",
    "# #     Считаем значения для области 2\n",
    "#     theta_r = (F_betta(M1, betta_r))\n",
    "#     M2 = (F_M(M1, betta_r))\n",
    "#     C2 = (F_C(M1, betta_r, C1))\n",
    "#     D2 = (F_D(M1, betta_r, D1))\n",
    "#     P2 = (F_P(M1, betta_r, P1))\n",
    "    \n",
    "# #     Считаем диссипацию\n",
    "#     F_diss = F(M0, C0, D0, P0,\n",
    "#                M1, C1, D1, P1,\n",
    "#                M2, C2, D2, P2,\n",
    "#                betta_s, theta_s, betta_r, theta_r)\n",
    "    \n",
    "#     return theta_s, theta_r, F_diss"
   ]
  },
  {
   "cell_type": "code",
   "execution_count": 9,
   "metadata": {
    "scrolled": true
   },
   "outputs": [
    {
     "name": "stdout",
     "output_type": "stream",
     "text": [
      "0\n",
      "200\n",
      "400\n",
      "600\n",
      "800\n",
      "1000\n",
      "1200\n",
      "1400\n",
      "CPU times: user 1min 32s, sys: 414 ms, total: 1min 32s\n",
      "Wall time: 1min 33s\n"
     ]
    }
   ],
   "source": [
    "%%time\n",
    "\n",
    "delta = 0.001\n",
    "\n",
    "# задаем сетку для переменных betta\n",
    "betta_s = np.arange(0.01, np.pi / 2, delta)\n",
    "betta_r = np.arange(0.01, np.pi / 2, delta)\n",
    "indx = range(len(betta_s))\n",
    "F_diss = np.zeros([len(betta_s), len(betta_r)])\n",
    "theta_s = np.zeros([len(betta_s), len(betta_r)])\n",
    "theta_r = np.zeros([len(betta_s), len(betta_r)])\n",
    "\n",
    "for i in range(len(betta_s)):\n",
    "    for j in range(len(betta_r)):\n",
    "        theta_s[i][j], theta_r[i][j], F_diss[i][j] = calc_ij(betta_s[i], betta_r[j])\n",
    "    if i % 200 == 0:\n",
    "        print(i)"
   ]
  },
  {
   "cell_type": "markdown",
   "metadata": {},
   "source": [
    "### Печать не nan результатов"
   ]
  },
  {
   "cell_type": "code",
   "execution_count": 10,
   "metadata": {},
   "outputs": [],
   "source": [
    "not_nan_indxs = []\n",
    "\n",
    "for i in range(len(betta_s)):\n",
    "    for j in range(len(betta_r)):\n",
    "        if np.isnan(F_diss[i][j]) == False:\n",
    "            not_nan_indxs += [[i, j]]\n",
    "\n",
    "# for n in range(len(not_nan_indxs)):\n",
    "#     print(n, F_diss[not_nan_indxs[n][0]][not_nan_indxs[n][1]])\n",
    "#     print('theta_s = {0}'.format(radian_to_dergee(theta_s[not_nan_indxs[n][0]][not_nan_indxs[n][1]])))\n",
    "#     print('theta_r = {0}'.format(radian_to_dergee(theta_r[not_nan_indxs[n][0]][not_nan_indxs[n][1]])))\n",
    "#     print('betta_s = {0}'.format(radian_to_dergee(betta_s[not_nan_indxs[n][0]])))\n",
    "#     print('betta_r = {0}'.format(radian_to_dergee(betta_r[not_nan_indxs[n][1]])))\n",
    "#     print(\"==================================================================================\")"
   ]
  },
  {
   "cell_type": "markdown",
   "metadata": {},
   "source": [
    "### Печать TOP 10 не nan результатов"
   ]
  },
  {
   "cell_type": "code",
   "execution_count": 11,
   "metadata": {},
   "outputs": [
    {
     "name": "stdout",
     "output_type": "stream",
     "text": [
      "48 28.02843699747573\n",
      "theta_s = 6.737444911039696\n",
      "theta_r = 21.27044363442258\n",
      "betta_s = 14.610423775835981\n",
      "betta_r = 31.11160827560368\n",
      "==================================================================================\n",
      "52 28.080292671341343\n",
      "theta_s = 8.349747505396595\n",
      "theta_r = 19.65745997299081\n",
      "betta_s = 16.04281826366304\n",
      "betta_r = 29.679213787776618\n",
      "==================================================================================\n",
      "46 28.10107357198204\n",
      "theta_s = 6.67101083112774\n",
      "theta_r = 21.33343993155034\n",
      "betta_s = 14.553127996322898\n",
      "betta_r = 31.168904055116762\n",
      "==================================================================================\n",
      "53 28.143026894791035\n",
      "theta_s = 8.412471962390097\n",
      "theta_r = 19.591319589009927\n",
      "betta_s = 16.10011404317612\n",
      "betta_r = 29.621918008263535\n",
      "==================================================================================\n",
      "45 28.18089033010419\n",
      "theta_s = 6.6044124642935085\n",
      "theta_r = 21.39632647384759\n",
      "betta_s = 14.495832216809816\n",
      "betta_r = 31.226199834629842\n",
      "==================================================================================\n",
      "54 28.20961671613101\n",
      "theta_s = 8.475072513391977\n",
      "theta_r = 19.52504679127563\n",
      "betta_s = 16.157409822689203\n",
      "betta_r = 29.564622228750455\n",
      "==================================================================================\n",
      "44 28.26809768392575\n",
      "theta_s = 6.537647969750537\n",
      "theta_r = 21.4591040743368\n",
      "betta_s = 14.438536437296731\n",
      "betta_r = 31.283495614142925\n",
      "==================================================================================\n",
      "55 28.279995164538107\n",
      "theta_s = 8.537550364961943\n",
      "theta_r = 19.458640697180282\n",
      "betta_s = 16.214705602202283\n",
      "betta_r = 29.50732644923737\n",
      "==================================================================================\n",
      "56 28.354097812154265\n",
      "theta_s = 8.599906706412643\n",
      "theta_r = 19.39210041987951\n",
      "betta_s = 16.272001381715366\n",
      "betta_r = 29.450030669724292\n",
      "==================================================================================\n",
      "42 28.362915622092174\n",
      "theta_s = 6.470715477323806\n",
      "theta_r = 21.521773545516236\n",
      "betta_s = 14.38124065778365\n",
      "betta_r = 31.340791393656005\n",
      "==================================================================================\n"
     ]
    }
   ],
   "source": [
    "not_nan_F_diss = [F_diss[not_nan_indxs[n][0]][not_nan_indxs[n][1]] for n in range(len(not_nan_indxs))]\n",
    "top_10_indxs = sorted(range(len(not_nan_F_diss)), key=lambda k: not_nan_F_diss[k])[:10]\n",
    "\n",
    "for n in top_10_indxs:\n",
    "    print(n, F_diss[not_nan_indxs[n][0]][not_nan_indxs[n][1]])\n",
    "    print('theta_s = {0}'.format(radian_to_dergee(theta_s[not_nan_indxs[n][0]][not_nan_indxs[n][1]])))\n",
    "    print('theta_r = {0}'.format(radian_to_dergee(theta_r[not_nan_indxs[n][0]][not_nan_indxs[n][1]])))\n",
    "    print('betta_s = {0}'.format(radian_to_dergee(betta_s[not_nan_indxs[n][0]])))\n",
    "    print('betta_r = {0}'.format(radian_to_dergee(betta_r[not_nan_indxs[n][1]])))\n",
    "    print(\"==================================================================================\")\n",
    "    \n",
    "n = top_10_indxs[0]\n",
    "betta_best_s = betta_s[not_nan_indxs[n][0]]\n",
    "betta_best_r = betta_r[not_nan_indxs[n][1]]"
   ]
  },
  {
   "cell_type": "markdown",
   "metadata": {},
   "source": [
    "### Автоматизируем"
   ]
  },
  {
   "cell_type": "code",
   "execution_count": 61,
   "metadata": {
    "scrolled": true
   },
   "outputs": [
    {
     "name": "stdout",
     "output_type": "stream",
     "text": [
      "1 30.02261990875177\n",
      "theta_s = 9.581990805963063\n",
      "theta_r = 18.411898401618952\n",
      "betta_s = 17.188733853924695\n",
      "betta_r = 28.647889756541158\n",
      "27.993889207582015\n",
      "==================================================================================\n",
      "0 30.02261990875177\n",
      "theta_s = 9.581990805963063\n",
      "theta_r = 18.411898401618952\n",
      "betta_s = 17.188733853924695\n",
      "betta_r = 28.647889756541158\n",
      "27.993889207582015\n",
      "==================================================================================\n",
      "0 29.865169281242675\n",
      "theta_s = 9.506273327114874\n",
      "theta_r = 18.497710475317604\n",
      "betta_s = 17.117114129533338\n",
      "betta_r = 28.719509480932498\n",
      "28.00398380243248\n",
      "==================================================================================\n",
      "0 29.557525780890927\n",
      "theta_s = 9.35434507368128\n",
      "theta_r = 18.63650791528201\n",
      "betta_s = 16.973874680750633\n",
      "betta_r = 28.826939067519522\n",
      "27.99085298896329\n",
      "==================================================================================\n",
      "0 29.4495326343918\n",
      "theta_s = 9.297199985919603\n",
      "theta_r = 18.70041344771293\n",
      "betta_s = 16.920159887457118\n",
      "betta_r = 28.880653860813055\n",
      "27.99761343363253\n",
      "==================================================================================\n",
      "0 29.377308245523036\n",
      "theta_s = 9.259050493832337\n",
      "theta_r = 18.734926599320524\n",
      "betta_s = 16.884350025261444\n",
      "betta_r = 28.907511257459802\n",
      "27.99397709315286\n",
      "==================================================================================\n",
      "0 29.34164122503409\n",
      "theta_s = 9.239959826640824\n",
      "theta_r = 18.75216667166337\n",
      "betta_s = 16.866445094163605\n",
      "betta_r = 28.920939955783194\n",
      "27.992126498304195\n",
      "==================================================================================\n",
      "0 29.323919509306727\n",
      "theta_s = 9.230410499382709\n",
      "theta_r = 18.760782590751226\n",
      "betta_s = 16.857492628614686\n",
      "betta_r = 28.92765430494487\n",
      "27.991193090133933\n",
      "==================================================================================\n",
      "0 29.3150866634271\n",
      "theta_s = 9.225634835659326\n",
      "theta_r = 18.765089522121098\n",
      "betta_s = 16.853016395840225\n",
      "betta_r = 28.931011479525708\n",
      "27.990724357780422\n",
      "==================================================================================\n",
      "0 29.310677251448478\n",
      "theta_s = 9.223246753563783\n",
      "theta_r = 18.76724273089958\n",
      "betta_s = 16.850778279452996\n",
      "betta_r = 28.93269006681613\n",
      "27.99048948446336\n",
      "==================================================================================\n",
      "0 29.308419211474508\n",
      "theta_s = 9.222052649931243\n",
      "theta_r = 18.76806880504599\n",
      "betta_s = 16.849659221259383\n",
      "betta_r = 28.933249595912937\n",
      "27.99012145497723\n",
      "==================================================================================\n",
      "0 29.307318165128947\n",
      "theta_s = 9.221455582465488\n",
      "theta_r = 18.768607061820436\n",
      "betta_s = 16.849099692162575\n",
      "betta_r = 28.93366924273556\n",
      "27.990062644285924\n",
      "==================================================================================\n",
      "0 29.306767751611066\n",
      "theta_s = 9.221157044819824\n",
      "theta_r = 18.76887618619532\n",
      "betta_s = 16.848819927614173\n",
      "betta_r = 28.933879066146876\n",
      "27.990033231015147\n",
      "==================================================================================\n",
      "0 29.3064925722678\n",
      "theta_s = 9.221007775018755\n",
      "theta_r = 18.769010747379696\n",
      "betta_s = 16.848680045339968\n",
      "betta_r = 28.933983977852527\n",
      "27.99001852239845\n",
      "==================================================================================\n",
      "0 29.30635498945034\n",
      "theta_s = 9.220933139873644\n",
      "theta_r = 18.769078027721115\n",
      "betta_s = 16.848610104202866\n",
      "betta_r = 28.934036433705334\n",
      "27.99001116759476\n",
      "==================================================================================\n",
      "0 29.306286199755164\n",
      "theta_s = 9.220895822239946\n",
      "theta_r = 18.76911166782915\n",
      "betta_s = 16.848575133634316\n",
      "betta_r = 28.93406266163176\n",
      "27.990007490069097\n",
      "==================================================================================\n",
      "0 29.306250944322027\n",
      "theta_s = 9.220877163407817\n",
      "theta_r = 18.769124574410803\n",
      "betta_s = 16.848557648350038\n",
      "betta_r = 28.934071404273887\n",
      "27.99000173781862\n",
      "==================================================================================\n",
      "0 29.30623374721741\n",
      "theta_s = 9.220867833987926\n",
      "theta_r = 18.769132984426733\n",
      "betta_s = 16.848548905707904\n",
      "betta_r = 28.9340779612555\n",
      "27.990000818414657\n",
      "==================================================================================\n",
      "0 29.306225148691883\n",
      "theta_s = 9.220863169277024\n",
      "theta_r = 18.769137189433714\n",
      "betta_s = 16.848544534386836\n",
      "betta_r = 28.934081239746313\n",
      "27.990000358710738\n",
      "==================================================================================\n",
      "0 29.30622084943579\n",
      "theta_s = 9.220860836921334\n",
      "theta_r = 18.769139291936956\n",
      "betta_s = 16.8485423487263\n",
      "betta_r = 28.934082878991713\n",
      "27.99000012885829\n",
      "==================================================================================\n",
      "0 29.30621869980942\n",
      "theta_s = 9.220859670743433\n",
      "theta_r = 18.76914034318852\n",
      "betta_s = 16.848541255896034\n",
      "betta_r = 28.934083698614415\n",
      "27.990000013931954\n",
      "==================================================================================\n",
      "0 29.30621765190347\n",
      "theta_s = 9.220859087654462\n",
      "theta_r = 18.769140991109747\n",
      "betta_s = 16.848540709480897\n",
      "betta_r = 28.934084245029524\n",
      "27.99000007876421\n",
      "==================================================================================\n",
      "0 29.30621711449718\n",
      "theta_s = 9.220858796109981\n",
      "theta_r = 18.769141253922626\n",
      "betta_s = 16.848540436273332\n",
      "betta_r = 28.93408444993519\n",
      "27.990000050032606\n",
      "==================================================================================\n",
      "0 29.30621683906736\n",
      "theta_s = 9.220858650337737\n",
      "theta_r = 18.769141354755188\n",
      "betta_s = 16.848540299669548\n",
      "betta_r = 28.93408451823708\n",
      "27.990000005092924\n",
      "==================================================================================\n",
      "0 29.306216740826205\n",
      "theta_s = 9.220858595673146\n",
      "theta_r = 18.769141415497828\n",
      "betta_s = 16.84854024844313\n",
      "betta_r = 28.93408456946352\n",
      "27.990000011170974\n",
      "==================================================================================\n",
      "0 29.30621667365046\n",
      "theta_s = 9.22085855923008\n",
      "theta_r = 18.769141448349426\n",
      "betta_s = 16.848540214292186\n",
      "betta_r = 28.934084595076715\n",
      "27.990000007579507\n",
      "==================================================================================\n",
      "0 29.306216639221724\n",
      "theta_s = 9.220858541008557\n",
      "theta_r = 18.769141460953502\n",
      "betta_s = 16.848540197216714\n",
      "betta_r = 28.934084603614462\n",
      "27.99000000196206\n",
      "==================================================================================\n",
      "0 29.306216622427783\n",
      "theta_s = 9.220858531897786\n",
      "theta_r = 18.769141469166385\n",
      "betta_s = 16.848540188678975\n",
      "betta_r = 28.934084610017752\n",
      "27.99000000106417\n",
      "==================================================================================\n",
      "0 29.306216614030802\n",
      "theta_s = 9.220858527342402\n",
      "theta_r = 18.76914147327283\n",
      "betta_s = 16.84854018441011\n",
      "betta_r = 28.934084613219397\n",
      "27.990000000615233\n",
      "==================================================================================\n",
      "0 29.306216609832312\n",
      "theta_s = 9.220858525064708\n",
      "theta_r = 18.76914147532606\n",
      "betta_s = 16.84854018227567\n",
      "betta_r = 28.934084614820218\n",
      "27.990000000390765\n",
      "==================================================================================\n",
      "0 29.306216607680554\n",
      "theta_s = 9.220858523925866\n",
      "theta_r = 18.769141476113816\n",
      "betta_s = 16.848540181208456\n",
      "betta_r = 28.934084615353825\n",
      "27.990000000039682\n",
      "==================================================================================\n",
      "0 29.306216606913036\n",
      "theta_s = 9.220858523498798\n",
      "theta_r = 18.76914147658838\n",
      "betta_s = 16.84854018080825\n",
      "betta_r = 28.934084615754056\n",
      "27.99000000008718\n",
      "==================================================================================\n",
      "0 29.30621660638822\n",
      "theta_s = 9.220858523214089\n",
      "theta_r = 18.76914147684504\n",
      "betta_s = 16.848540180541445\n",
      "betta_r = 28.93408461595417\n",
      "27.990000000059126\n",
      "==================================================================================\n",
      "0 29.30621660611925\n",
      "theta_s = 9.220858523071733\n",
      "theta_r = 18.769141476943524\n",
      "betta_s = 16.848540180408044\n",
      "betta_r = 28.934084616020872\n",
      "27.990000000015257\n",
      "==================================================================================\n",
      "0 29.306216605988027\n",
      "theta_s = 9.220858523000556\n",
      "theta_r = 18.769141477007665\n",
      "betta_s = 16.84854018034134\n",
      "betta_r = 28.93408461607088\n",
      "27.990000000008223\n",
      "==================================================================================\n",
      "0 29.306216605922412\n",
      "theta_s = 9.220858522964967\n",
      "theta_r = 18.76914147703976\n",
      "betta_s = 16.848540180307992\n",
      "betta_r = 28.9340846160959\n",
      "27.990000000004727\n",
      "==================================================================================\n",
      "0 29.306216605889624\n",
      "theta_s = 9.22085852294717\n",
      "theta_r = 18.769141477055786\n",
      "betta_s = 16.848540180291316\n",
      "betta_r = 28.934084616108397\n",
      "27.990000000002958\n",
      "==================================================================================\n",
      "0 29.306216605872834\n",
      "theta_s = 9.22085852293827\n",
      "theta_r = 18.769141477061954\n",
      "betta_s = 16.848540180282978\n",
      "betta_r = 28.934084616112575\n",
      "27.990000000000222\n",
      "==================================================================================\n",
      "0 29.30621660586683\n",
      "theta_s = 9.220858522934938\n",
      "theta_r = 18.769141477065666\n",
      "betta_s = 16.84854018027985\n",
      "betta_r = 28.93408461611571\n",
      "27.990000000000606\n",
      "==================================================================================\n",
      "0 29.306216605862744\n",
      "theta_s = 9.220858522932712\n",
      "theta_r = 18.76914147706767\n",
      "betta_s = 16.84854018027777\n",
      "betta_r = 28.934084616117275\n",
      "27.990000000000382\n",
      "==================================================================================\n",
      "0 29.3062166058606\n",
      "theta_s = 9.220858522931604\n",
      "theta_r = 18.769141477068445\n",
      "betta_s = 16.848540180276725\n",
      "betta_r = 28.934084616117797\n",
      "27.990000000000048\n",
      "==================================================================================\n"
     ]
    },
    {
     "name": "stdout",
     "output_type": "stream",
     "text": [
      "0 29.306216605859625\n",
      "theta_s = 9.220858522931046\n",
      "theta_r = 18.76914147706904\n",
      "betta_s = 16.848540180276203\n",
      "betta_r = 28.934084616118295\n",
      "27.990000000000087\n",
      "==================================================================================\n",
      "0 29.306216605859095\n",
      "theta_s = 9.220858522930765\n",
      "theta_r = 18.769141477069283\n",
      "betta_s = 16.848540180275943\n",
      "betta_r = 28.934084616118476\n",
      "27.990000000000048\n",
      "==================================================================================\n",
      "0 29.306216605858843\n",
      "theta_s = 9.220858522930627\n",
      "theta_r = 18.769141477069404\n",
      "betta_s = 16.848540180275812\n",
      "betta_r = 28.934084616118575\n",
      "27.99000000000003\n",
      "==================================================================================\n",
      "0 29.306216605858733\n",
      "theta_s = 9.220858522930559\n",
      "theta_r = 18.76914147706945\n",
      "betta_s = 16.84854018027575\n",
      "betta_r = 28.934084616118607\n",
      "27.99000000000001\n",
      "==================================================================================\n",
      "0 29.306216605858687\n",
      "theta_s = 9.220858522930532\n",
      "theta_r = 18.76914147706947\n",
      "betta_s = 16.848540180275727\n",
      "betta_r = 28.93408461611861\n",
      "27.990000000000002\n",
      "==================================================================================\n",
      "2 29.30621660585865\n",
      "theta_s = 9.22085852293052\n",
      "theta_r = 18.76914147706949\n",
      "betta_s = 16.848540180275712\n",
      "betta_r = 28.93408461611863\n",
      "27.99000000000001\n",
      "==================================================================================\n",
      "7 29.306216605858673\n",
      "theta_s = 9.220858522930538\n",
      "theta_r = 18.769141477069464\n",
      "betta_s = 16.84854018027573\n",
      "betta_r = 28.934084616118625\n",
      "27.990000000000002\n",
      "==================================================================================\n"
     ]
    },
    {
     "ename": "IndexError",
     "evalue": "list index out of range",
     "output_type": "error",
     "traceback": [
      "\u001b[1;31m---------------------------------------------------------------------------\u001b[0m",
      "\u001b[1;31mIndexError\u001b[0m                                Traceback (most recent call last)",
      "\u001b[1;32m<timed exec>\u001b[0m in \u001b[0;36m<module>\u001b[1;34m\u001b[0m\n",
      "\u001b[1;31mIndexError\u001b[0m: list index out of range"
     ]
    }
   ],
   "source": [
    "%%time\n",
    "\n",
    "delta = 0.005\n",
    "start_s = start_r = 0.01\n",
    "end_s = end_r = np.pi / 2\n",
    "\n",
    "error = 1\n",
    "\n",
    "while (error > np.pi / (180 * 1000)):\n",
    "    # задаем сетку для переменных betta\n",
    "    betta_s = np.arange(start_s, end_s, delta)\n",
    "    betta_r = np.arange(start_r, end_r, delta)\n",
    "    indx = range(len(betta_s))\n",
    "    F_diss = np.zeros([len(betta_s), len(betta_r)])\n",
    "    theta_s = np.zeros([len(betta_s), len(betta_r)])\n",
    "    theta_r = np.zeros([len(betta_s), len(betta_r)])\n",
    "\n",
    "    for i in range(len(betta_s)):\n",
    "        for j in range(len(betta_r)):\n",
    "            theta_s[i][j], theta_r[i][j], F_diss[i][j] = calc_ij(betta_s[i], betta_r[j])\n",
    "#         if i % 200 == 0:\n",
    "#             print(i)\n",
    "\n",
    "    not_nan_indxs = []\n",
    "\n",
    "    for i in range(len(betta_s)):\n",
    "        for j in range(len(betta_r)):\n",
    "            if np.isnan(F_diss[i][j]) == False:\n",
    "                not_nan_indxs += [[i, j]]\n",
    "\n",
    "    not_nan_F_diss = [F_diss[not_nan_indxs[n][0]][not_nan_indxs[n][1]] for n in range(len(not_nan_indxs))]\n",
    "    top_10_indxs = sorted(range(len(not_nan_F_diss)), key=lambda k: not_nan_F_diss[k])[:10]\n",
    "\n",
    "#     for n in top_10_indxs:\n",
    "#         print(n, F_diss[not_nan_indxs[n][0]][not_nan_indxs[n][1]])\n",
    "#         print('theta_s = {0}'.format(radian_to_dergee(theta_s[not_nan_indxs[n][0]][not_nan_indxs[n][1]])))\n",
    "#         print('theta_r = {0}'.format(radian_to_dergee(theta_r[not_nan_indxs[n][0]][not_nan_indxs[n][1]])))\n",
    "#         print('betta_s = {0}'.format(radian_to_dergee(betta_s[not_nan_indxs[n][0]])))\n",
    "#         print('betta_r = {0}'.format(radian_to_dergee(betta_r[not_nan_indxs[n][1]])))\n",
    "#         print(\"==================================================================================\")\n",
    "\n",
    "    n = top_10_indxs[0]\n",
    "    betta_best_s = betta_s[not_nan_indxs[n][0]]\n",
    "    betta_best_r = betta_r[not_nan_indxs[n][1]]\n",
    "    print(n, F_diss[not_nan_indxs[n][0]][not_nan_indxs[n][1]])\n",
    "    print('theta_s = {0}'.format(radian_to_dergee(theta_s[not_nan_indxs[n][0]][not_nan_indxs[n][1]])))\n",
    "    print('theta_r = {0}'.format(radian_to_dergee(theta_r[not_nan_indxs[n][0]][not_nan_indxs[n][1]])))\n",
    "    print('betta_s = {0}'.format(radian_to_dergee(betta_s[not_nan_indxs[n][0]])))\n",
    "    print('betta_r = {0}'.format(radian_to_dergee(betta_r[not_nan_indxs[n][1]])))\n",
    "    print(radian_to_dergee(theta_s[not_nan_indxs[n][0]][not_nan_indxs[n][1]]) + \n",
    "          radian_to_dergee(theta_r[not_nan_indxs[n][0]][not_nan_indxs[n][1]]))\n",
    "    print(\"==================================================================================\")\n",
    "    \n",
    "    start_s = betta_best_s - 2*delta\n",
    "    start_r = betta_best_r - 2*delta\n",
    "    end_s =  betta_best_s + 2*delta\n",
    "    end_r =  betta_best_r + 2*delta\n",
    "    delta /= 2"
   ]
  },
  {
   "cell_type": "markdown",
   "metadata": {},
   "source": [
    "### Распределение F(betta_s, betta_r)"
   ]
  },
  {
   "cell_type": "code",
   "execution_count": 17,
   "metadata": {},
   "outputs": [
    {
     "data": {
      "image/png": "[encoded data removed]",
      "text/plain": [
       "<Figure size 1296x720 with 2 Axes>"
      ]
     },
     "metadata": {},
     "output_type": "display_data"
    }
   ],
   "source": [
    "import seaborn as sns\n",
    "\n",
    "with sns.axes_style(\"white\"):\n",
    "    f, ax = plt.subplots(figsize=(18, 10))\n",
    "    ax = sns.heatmap(F_diss, \n",
    "                     vmin=25, vmax=100) \n",
    "#                      xticklabels=radian_to_dergee(betta_s), yticklabels=radian_to_dergee(betta_r))"
   ]
  },
  {
   "cell_type": "code",
   "execution_count": null,
   "metadata": {},
   "outputs": [],
   "source": []
  },
  {
   "cell_type": "code",
   "execution_count": null,
   "metadata": {},
   "outputs": [],
   "source": []
  },
  {
   "cell_type": "code",
   "execution_count": null,
   "metadata": {},
   "outputs": [],
   "source": []
  },
  {
   "cell_type": "code",
   "execution_count": null,
   "metadata": {},
   "outputs": [],
   "source": []
  },
  {
   "cell_type": "code",
   "execution_count": null,
   "metadata": {},
   "outputs": [],
   "source": []
  },
  {
   "cell_type": "code",
   "execution_count": null,
   "metadata": {},
   "outputs": [],
   "source": []
  },
  {
   "cell_type": "markdown",
   "metadata": {},
   "source": [
    "### Ниже склад старых блоков"
   ]
  },
  {
   "cell_type": "code",
   "execution_count": 296,
   "metadata": {},
   "outputs": [
    {
     "data": {
      "image/png": "[encoded data removed]",
      "text/plain": [
       "<Figure size 1224x576 with 1 Axes>"
      ]
     },
     "metadata": {
      "needs_background": "light"
     },
     "output_type": "display_data"
    }
   ],
   "source": [
    "plt.figure(figsize=(17,8))\n",
    "plt.plot(radian_to_dergee(theta_s), F_diss)\n",
    "plt.grid()\n",
    "plt.show()"
   ]
  },
  {
   "cell_type": "code",
   "execution_count": 37,
   "metadata": {},
   "outputs": [],
   "source": [
    "def deriv(arr, delta):\n",
    "    return (arr[1:] - arr[:-1]) / delta"
   ]
  },
  {
   "cell_type": "code",
   "execution_count": 38,
   "metadata": {},
   "outputs": [],
   "source": [
    "first_deriv = deriv(F_diss, delta)\n",
    "second_deriv = deriv(first_deriv, delta)\n",
    "\n"
   ]
  },
  {
   "cell_type": "code",
   "execution_count": 39,
   "metadata": {},
   "outputs": [
    {
     "ename": "IndexError",
     "evalue": "index 491 is out of bounds for axis 0 with size 30",
     "output_type": "error",
     "traceback": [
      "\u001b[1;31m---------------------------------------------------------------------------\u001b[0m",
      "\u001b[1;31mIndexError\u001b[0m                                Traceback (most recent call last)",
      "\u001b[1;32m~\\AppData\\Local\\Temp/ipykernel_8532/3031027307.py\u001b[0m in \u001b[0;36m<module>\u001b[1;34m\u001b[0m\n\u001b[0;32m     10\u001b[0m \u001b[1;33m\u001b[0m\u001b[0m\n\u001b[0;32m     11\u001b[0m \u001b[0mmin_indx\u001b[0m \u001b[1;33m=\u001b[0m \u001b[0mnp\u001b[0m\u001b[1;33m.\u001b[0m\u001b[0margmin\u001b[0m\u001b[1;33m(\u001b[0m\u001b[0mabs\u001b[0m\u001b[1;33m(\u001b[0m\u001b[0mfirst_deriv\u001b[0m\u001b[1;33m)\u001b[0m\u001b[1;33m)\u001b[0m\u001b[1;33m\u001b[0m\u001b[1;33m\u001b[0m\u001b[0m\n\u001b[1;32m---> 12\u001b[1;33m \u001b[0mprint\u001b[0m\u001b[1;33m(\u001b[0m\u001b[1;34m'theta_s = {0}'\u001b[0m\u001b[1;33m.\u001b[0m\u001b[0mformat\u001b[0m\u001b[1;33m(\u001b[0m\u001b[0mradian_to_dergee\u001b[0m\u001b[1;33m(\u001b[0m\u001b[0mtheta_s\u001b[0m\u001b[1;33m[\u001b[0m\u001b[0mmin_indx\u001b[0m\u001b[1;33m]\u001b[0m\u001b[1;33m)\u001b[0m\u001b[1;33m)\u001b[0m\u001b[1;33m)\u001b[0m\u001b[1;33m\u001b[0m\u001b[1;33m\u001b[0m\u001b[0m\n\u001b[0m\u001b[0;32m     13\u001b[0m \u001b[0mprint\u001b[0m\u001b[1;33m(\u001b[0m\u001b[1;34m'theta_r = {0}'\u001b[0m\u001b[1;33m.\u001b[0m\u001b[0mformat\u001b[0m\u001b[1;33m(\u001b[0m\u001b[0mradian_to_dergee\u001b[0m\u001b[1;33m(\u001b[0m\u001b[0mtheta_r\u001b[0m\u001b[1;33m[\u001b[0m\u001b[0mmin_indx\u001b[0m\u001b[1;33m]\u001b[0m\u001b[1;33m)\u001b[0m\u001b[1;33m)\u001b[0m\u001b[1;33m)\u001b[0m\u001b[1;33m\u001b[0m\u001b[1;33m\u001b[0m\u001b[0m\n\u001b[0;32m     14\u001b[0m \u001b[0mprint\u001b[0m\u001b[1;33m(\u001b[0m\u001b[1;34m'betta_s = {0}'\u001b[0m\u001b[1;33m.\u001b[0m\u001b[0mformat\u001b[0m\u001b[1;33m(\u001b[0m\u001b[0mradian_to_dergee\u001b[0m\u001b[1;33m(\u001b[0m\u001b[0mbetta_s\u001b[0m\u001b[1;33m[\u001b[0m\u001b[0mmin_indx\u001b[0m\u001b[1;33m]\u001b[0m\u001b[1;33m)\u001b[0m\u001b[1;33m)\u001b[0m\u001b[1;33m)\u001b[0m\u001b[1;33m\u001b[0m\u001b[1;33m\u001b[0m\u001b[0m\n",
      "\u001b[1;31mIndexError\u001b[0m: index 491 is out of bounds for axis 0 with size 30"
     ]
    }
   ],
   "source": [
    "# min_value = 1000000\n",
    "# min_indx = None\n",
    "\n",
    "# for i in range(1, len(first_deriv) - 1):\n",
    "#     if (first_deriv[i] < min_value and first_deriv[i-1] * first_deriv[i+1] < 0):\n",
    "#         min_value = first_deriv[i]\n",
    "#         min_indx = i\n",
    "        \n",
    "# print(min_indx, min_value)\n",
    "\n",
    "min_indx = np.argmin(abs(first_deriv))\n",
    "print('theta_s = {0}'.format(radian_to_dergee(theta_s[min_indx])))\n",
    "print('theta_r = {0}'.format(radian_to_dergee(theta_r[min_indx])))\n",
    "print('betta_s = {0}'.format(radian_to_dergee(betta_s[min_indx])))\n",
    "print('betta_r = {0}'.format(radian_to_dergee(betta_r[min_indx])))\n",
    "\n",
    "print('theta_r + theta_s = {0}'.format(radian_to_dergee(theta_s[min_indx] + theta_r[min_indx])))"
   ]
  },
  {
   "cell_type": "code",
   "execution_count": 399,
   "metadata": {},
   "outputs": [
    {
     "data": {
      "image/png": "[encoded data removed]",
      "text/plain": [
       "<Figure size 1224x576 with 1 Axes>"
      ]
     },
     "metadata": {
      "needs_background": "light"
     },
     "output_type": "display_data"
    }
   ],
   "source": [
    "first_deriv = deriv(F_diss, delta)\n",
    "plt.figure(figsize=(17,8))\n",
    "plt.plot(radian_to_dergee(theta_s[:-1]), first_deriv)\n",
    "plt.grid()\n",
    "plt.show()"
   ]
  },
  {
   "cell_type": "code",
   "execution_count": 400,
   "metadata": {},
   "outputs": [
    {
     "data": {
      "image/png": "[encoded data removed]",
      "text/plain": [
       "<Figure size 1224x576 with 1 Axes>"
      ]
     },
     "metadata": {
      "needs_background": "light"
     },
     "output_type": "display_data"
    }
   ],
   "source": [
    "second_deriv = deriv(first_deriv, delta)\n",
    "plt.figure(figsize=(17,8))\n",
    "plt.plot(radian_to_dergee(theta_s[:-2]), second_deriv)\n",
    "plt.grid()\n",
    "plt.show()"
   ]
  },
  {
   "cell_type": "code",
   "execution_count": null,
   "metadata": {},
   "outputs": [],
   "source": []
  },
  {
   "cell_type": "code",
   "execution_count": 20,
   "metadata": {},
   "outputs": [
    {
     "data": {
      "text/plain": [
       "0.08050847457627118"
      ]
     },
     "execution_count": 20,
     "metadata": {},
     "output_type": "execute_result"
    }
   ],
   "source": []
  },
  {
   "cell_type": "code",
   "execution_count": 62,
   "metadata": {},
   "outputs": [
    {
     "name": "stdout",
     "output_type": "stream",
     "text": [
      "theta_s =  6.127515328428542\n",
      "betta_s =  14.392015869065196\n",
      "theta_r =  21.872484671571456\n",
      "betta_r =  44.4270040008057\n"
     ]
    }
   ],
   "source": [
    "# 3\n",
    "theta_s = 1.9 / 17.8\n",
    "betta_s = 4.3 / 17.3\n",
    "betta_r = 7 / 10\n",
    "\n",
    "print('theta_s = ', radian_to_dergee(np.arcsin(theta_s)))\n",
    "print('betta_s = ', radian_to_dergee(np.arcsin(betta_s)))\n",
    "print('theta_r = ', radian_to_dergee(alpha) - radian_to_dergee(np.arcsin(theta_s)))\n",
    "print('betta_r = ', radian_to_dergee(np.arcsin(betta_r)))"
   ]
  },
  {
   "cell_type": "code",
   "execution_count": 65,
   "metadata": {},
   "outputs": [
    {
     "name": "stdout",
     "output_type": "stream",
     "text": [
      "theta_s =  5.856701909918286\n",
      "betta_s =  12.972878150750649\n",
      "theta_r =  22.143298090081714\n",
      "betta_r =  37.752001306172986\n"
     ]
    }
   ],
   "source": [
    "# 2\n",
    "theta_s = 1.5 / 14.7\n",
    "betta_s = 3.3 / 14.7\n",
    "betta_r = 3 / 4.9\n",
    "\n",
    "print('theta_s = ', radian_to_dergee(np.arcsin(theta_s)))\n",
    "print('betta_s = ', radian_to_dergee(np.arcsin(betta_s)))\n",
    "print('theta_r = ', radian_to_dergee(alpha) - radian_to_dergee(np.arcsin(theta_s)))\n",
    "print('betta_r = ', radian_to_dergee(np.arcsin(betta_r)))"
   ]
  },
  {
   "cell_type": "code",
   "execution_count": 67,
   "metadata": {},
   "outputs": [
    {
     "name": "stdout",
     "output_type": "stream",
     "text": [
      "theta_s =  5.644777552371437\n",
      "betta_s =  12.54539835187332\n",
      "theta_r =  22.355222447628563\n",
      "betta_r =  37.05375953464212\n"
     ]
    }
   ],
   "source": [
    "# 1\n",
    "theta_s = 1.2 / 12.2\n",
    "betta_s = 2.65 / 12.2\n",
    "betta_r = 2.35 / 3.9\n",
    "\n",
    "print('theta_s = ', radian_to_dergee(np.arcsin(theta_s)))\n",
    "print('betta_s = ', radian_to_dergee(np.arcsin(betta_s)))\n",
    "print('theta_r = ', radian_to_dergee(alpha) - radian_to_dergee(np.arcsin(theta_s)))\n",
    "print('betta_r = ', radian_to_dergee(np.arcsin(betta_r)))"
   ]
  },
  {
   "cell_type": "code",
   "execution_count": 50,
   "metadata": {},
   "outputs": [
    {
     "name": "stdout",
     "output_type": "stream",
     "text": [
      "theta_s =  0.7008832842769289\n",
      "betta_s =  11.286708434542321\n",
      "theta_r =  27.29911671572307\n",
      "betta_r =  44.4270040008057\n"
     ]
    }
   ],
   "source": [
    "# SA\n",
    "theta_s = 0.2 / 16.35\n",
    "betta_s = 3.2 / 16.35\n",
    "betta_r = 3.5 / 5\n",
    "\n",
    "print('theta_s = ', radian_to_dergee(np.arcsin(theta_s)))\n",
    "print('betta_s = ', radian_to_dergee(np.arcsin(betta_s)))\n",
    "print('theta_r = ', radian_to_dergee(alpha) - radian_to_dergee(np.arcsin(theta_s)))\n",
    "print('betta_r = ', radian_to_dergee(np.arcsin(betta_r)))"
   ]
  },
  {
   "cell_type": "code",
   "execution_count": null,
   "metadata": {},
   "outputs": [],
   "source": []
  }
 ],
 "metadata": {
  "kernelspec": {
   "display_name": "Python 3",
   "language": "python",
   "name": "python3"
  },
  "language_info": {
   "codemirror_mode": {
    "name": "ipython",
    "version": 3
   },
   "file_extension": ".py",
   "mimetype": "text/x-python",
   "name": "python",
   "nbconvert_exporter": "python",
   "pygments_lexer": "ipython3",
   "version": "3.7.6"
  }
 },
 "nbformat": 4,
 "nbformat_minor": 5
}
